























#!pip install missingno
import numpy as np  # Manipulation des tableaux et calculs numériques.
import pandas as pd  # Manipulation et analyse de données, notamment les DataFrames.
import matplotlib.pyplot as plt  # Création de graphiques statiques (courbes, histogrammes, scatter plots).
import matplotlib.style as style
import seaborn as sns  # Visualisation statistique, permet de créer des graphiques plus esthétiques et informatifs.
import missingno as msno  # Visualisation des données manquantes.
from scipy import stats
from ydata_profiling import ProfileReport








train=pd.read_csv("../data/train.csv", sep=";")
print(train.shape)
train.head()


test=pd.read_csv("../data/test.csv",sep=";")
print(test.shape)
test.head()








train.info()


train.drop("Id",axis=1,inplace=True)


def missing(df):
    plt.figure(figsize=(10, 6))
    msno.matrix(df)
    plt.title('Matrice des valeurs manquantes')
    plt.show()
    
    plt.figure(figsize=(10, 6))
    msno.bar(df)
    plt.title('Barre des valeurs manquantes')
    plt.show()
    
    missing_counts = df.isnull().sum().sort_values(ascending=False)
    missing_counts = missing_counts[missing_counts > 0] 
    
    missing_percent = round((missing_counts / len(df)) * 100, 2)
    
    missing_summary = pd.concat([missing_counts, missing_percent], axis=1, keys=['Total', 'Percent'])
    
    return missing_summary


missing(train)





def impute(df):
    for name in df.select_dtypes(["int64","float"]):
        df[name] = df[name].fillna(0)
    for name in df.select_dtypes("object"):
        df[name] = df[name].fillna("None")
    return df
train=impute(train)


missing(train)





missing(train)





train['YrSold'] = train['YrSold'].astype(str)
train['MoSold'] = train['MoSold'].astype(str)


train.to_csv("../data/train_cleaned.csv",index=False)








train.describe().T


train_num = train.select_dtypes(include = ['float64', 'int64'])
train_num.head()


train_num.hist(figsize=(16, 20), bins=50, xlabelsize=8, ylabelsize=8);


def plotting_3_chart(df, feature):
    fig = plt.figure(constrained_layout=True, figsize=(12, 8))
    grid = plt.GridSpec(ncols=3, nrows=3, figure=fig)

    ax1 = fig.add_subplot(grid[0, :2])
    ax1.set_title('Histograme')
    sns.histplot(df[feature], kde=True, ax=ax1)

    ax2 = fig.add_subplot(grid[1, :2])
    ax2.set_title('QQ Plot')
    stats.probplot(df[feature], plot=ax2)

    ax3 = fig.add_subplot(grid[:, 2])
    ax3.set_title('Box Plot')
    sns.boxplot(y=df[feature], ax=ax3)

    plt.show()
    
plotting_3_chart(train, 'SalePrice')






# Select only numeric columns
train_numeric = train.select_dtypes(include=[np.number])

# Set the plot style
sns.set_style('whitegrid')
plt.subplots(figsize=(30, 20))

# Generate a mask for the upper triangle (taken from seaborn example gallery)
mask = np.zeros_like(train_numeric.corr(), dtype=bool)  # Use bool instead of np.bool
mask[np.triu_indices_from(mask)] = True

# Plot the heatmap for numeric columns only
sns.heatmap(train_numeric.corr(), 
            cmap=sns.diverging_palette(20, 220, n=200), 
            mask=mask, 
            annot=True, 
            center=0)

# Add title
plt.title("Heatmap of all the Features", fontsize=30)

# Show the plot
plt.show()


profile = ProfileReport(train, title="Profiling Report")
profile.to_notebook_iframe()


profile.to_file("../Ressources/data_report.html") 









